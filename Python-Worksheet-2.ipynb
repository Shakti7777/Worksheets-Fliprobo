{
 "cells": [
  {
   "cell_type": "markdown",
   "metadata": {},
   "source": [
    "# WORKSHEET 2\n"
   ]
  },
  {
   "cell_type": "markdown",
   "metadata": {},
   "source": [
    "# PYTHON"
   ]
  },
  {
   "cell_type": "raw",
   "metadata": {},
   "source": [
    "Q1 to Q8 have only one correct answer. Choose the correct option to answer your question. \n",
    "\n",
    "1.\tWhich of the following is not a core datatype in python? \n",
    "A)\tlist  \t \t \t \tB) struct \n",
    "C) tuple \t \t \t \tC) set \n",
    "\n",
    "Answer : -B -struct\n",
    "\n",
    "2.\tWhich of the following is an invalid variable name in python? \n",
    "A)\t_init_ \t \t \t \tB) no_1 \n",
    "C) 1_no \t \t \t \tD) _1 \n",
    "\n",
    "Answer :- A - _init_\n",
    "\n",
    "3.\tWhich one of the following is a keyword in python? \n",
    "A)\tin \t \t \t \t \tB) _init_ \n",
    "C) on \t \t \t \t \tD) foo \n",
    "\n",
    "Answer :- A - in\n",
    "\n",
    "4.\tIn which of the following manner are the operators of the same precedence executed in python? \n",
    "A)\tLeft to Right \t \t \tB) BODMAS \n",
    "C) Right to Left  \t \t \tD) None of these \n",
    "\n",
    "Answer :- A - Left to Right\n",
    "\n",
    "5.\tArrange the following in decreasing order of the precedence when they appear in an expression in python? \n",
    "\ti) Multiplication \t \tii) Division \tiii) Exponential  \tiv) Parentheses \n",
    "A)\tiii – iv – ii – i  \t \t \tB) iii – iv – i – ii C) iv – iii – ii – i \t \t \tD) iii – ii – i – iv \n",
    "\n",
    "Answer :- C \n",
    "\n",
    "\n",
    "6. (28//6)**3/3%3 = ? \n",
    "\tA) 7.1111… \t \t \t \tB) 0 \n",
    "\tC) 0.3333… \t \t \t \tD) 1 \n",
    "\n",
    "Answer :- C -0.3333...   \n",
    "    \n",
    "    \n",
    "7.\tWhich of the following is not equal to x16 ? \n",
    "A)\tx**4**4 \t \t \t \tB) x**16 \n",
    "\tC) x^16 \t \t \t \tD) (x**4)**4 \n",
    "    \n",
    "Answer :- A -x**4**4    \n",
    "    \n",
    "\n",
    "8.\ta = input(“Enter an integer”). What will be the data type of a? \n",
    "A)\tint  \t \t \t \tB) str \n",
    "C) float  \t \t \t \tD) double \n",
    "\n",
    "Answer : -B -str\n"
   ]
  },
  {
   "cell_type": "raw",
   "metadata": {},
   "source": [
    "Q9 and Q10 have multiple correct answers. Choose all the correct options to answer your question.\n",
    "\n",
    "9. Which of the following statements are correct?\n",
    "A) Division and multiplication have same precedence in python\n",
    "B) Python’s operators’ precedence is based on PEDMAS\n",
    "C) Python’s operators’ precedence is based on VBODMAS\n",
    "D) In case of operators’ having same precedence, the one on the left side is executed first.\n",
    "\n",
    "Answer:- B and D\n",
    "    \n",
    "    \n",
    "10. Which of the following is(are) valid statement(s) in python? \n",
    "\n",
    "A) abc = 1,000,000 B) a b c = 1000 2000 3000 C) a,b,c = 1000, 2000, 3000 D) a_b_c = 1,000,000\n",
    "\n",
    "Answer :- C "
   ]
  },
  {
   "cell_type": "code",
   "execution_count": null,
   "metadata": {},
   "outputs": [],
   "source": [
    "Q11 to Q13 are subjective questions, answer them briefly\n",
    "\n",
    "11. Differentiate between a list, tuple, set and dictionary.\n",
    "\n",
    "Answer: A list is a sequence of elements in a specific order. You can access elements with a numerical index, e.g. the_list[3].\n",
    "        The time taken for several operations such as testing if the list contains an element is O(n), i.e. proportional to\n",
    "        the length of the list.\n",
    "\n",
    "        A tuple is basically an immutable list, meaning you can't add, remove, or replace any elements.\n",
    "\n",
    "        A set has no order, but has the advantage over a list that testing if the set contains an element is much faster, \n",
    "        almost regardless of the size of the set. It also has some handy operations such as union and intersection.\n",
    "\n",
    "        A dictionary is a mapping from keys to values where the keys can be all sorts of different objects, in contrast to\n",
    "        lists where the 'keys' can only be numbers. So you can have the_dict = {'abc': 3, 'def': 8} and then the_dict['abc']\n",
    "        is 3.\n",
    "        \n",
    "\n",
    "\n",
    "\n"
   ]
  },
  {
   "cell_type": "raw",
   "metadata": {},
   "source": [
    "12. Are strings mutable in python? Suppose you have a string “I+Love+Python”, write a small code to replace ‘+’ with space \n",
    "    in python.\n",
    "    \n",
    "Answer :- Strings are immutable.\n"
   ]
  },
  {
   "cell_type": "raw",
   "metadata": {},
   "source": [
    "13. What does the function ord() do in python? Explain with example. Also, write down the function for getting the datatype \n",
    "    of a variable in python.\n",
    "    \n",
    "Answer: -The ord() function in Python accepts a string of length 1 as an argument and returns the unicode code point \n",
    "         representation of the passed argument. For example ord('B') returns 66 which is a unicode code point value of \n",
    "         character 'B'."
   ]
  },
  {
   "cell_type": "raw",
   "metadata": {},
   "source": [
    "Q14 and Q15 are programming questions. Answer them in Jupyter Notebook.\n",
    "\n",
    "14. Write a python program to solve a quadratic equation of the form 𝑎𝑥2+𝑏𝑥+𝑐=0. Where a, b and c are to be taken by user\n",
    "    input. Handle the erroneous input, such as ‘a’ should not be equal to 0."
   ]
  },
  {
   "cell_type": "code",
   "execution_count": 34,
   "metadata": {},
   "outputs": [
    {
     "name": "stdout",
     "output_type": "stream",
     "text": [
      "Quadratic function : (a * x^2) + b*x + c\n",
      "a: 4\n",
      "b: 5\n",
      "c: 3\n",
      "No roots, discriminant < 0.\n"
     ]
    }
   ],
   "source": [
    "#Answer 14-\n",
    "\n",
    "from math import sqrt\n",
    "\n",
    "print(\"Quadratic function : (a * x^2) + b*x + c\")\n",
    "a = float(input(\"a: \"))\n",
    "b = float(input(\"b: \"))\n",
    "c = float(input(\"c: \"))\n",
    "\n",
    "r = b**2 - 4*a*c\n",
    "\n",
    "if r > 0:\n",
    "    num_roots = 2\n",
    "    x1 = (((-b) + sqrt(r))/(2*a))     \n",
    "    x2 = (((-b) - sqrt(r))/(2*a))\n",
    "    print(\"There are 2 roots: %f and %f\" % (x1, x2))\n",
    "elif r == 0:\n",
    "    num_roots = 1\n",
    "    x = (-b) / 2*a\n",
    "    print(\"There is one root: \", x)\n",
    "else:\n",
    "    num_roots = 0\n",
    "    print(\"No roots, discriminant < 0.\")\n",
    "    exit()"
   ]
  },
  {
   "cell_type": "raw",
   "metadata": {},
   "source": [
    "15. Write a python program to find the sum of first ‘n’ natural numbers without using any loop. Ask user to input the value \n",
    "    of ‘n’."
   ]
  },
  {
   "cell_type": "code",
   "execution_count": 1,
   "metadata": {},
   "outputs": [
    {
     "name": "stdout",
     "output_type": "stream",
     "text": [
      "Please Enter any Number: 5\n",
      "Sum of Natural Numbers from 1 to 5 =  15.0\n"
     ]
    }
   ],
   "source": [
    "#Answer 15\n",
    "\n",
    "def sum_of_n_natural_numbers(num):\n",
    "    if(num == 0):\n",
    "        return num\n",
    "    else:\n",
    "        return (num * (num + 1) / 2)\n",
    "    \n",
    "number = int(input(\"Please Enter any Number: \"))\n",
    "\n",
    "total_value = sum_of_n_natural_numbers(number)\n",
    "\n",
    "print(\"Sum of Natural Numbers from 1 to {0} =  {1}\".format(number, total_value))"
   ]
  }
 ],
 "metadata": {
  "kernelspec": {
   "display_name": "Python 3",
   "language": "python",
   "name": "python3"
  },
  "language_info": {
   "codemirror_mode": {
    "name": "ipython",
    "version": 3
   },
   "file_extension": ".py",
   "mimetype": "text/x-python",
   "name": "python",
   "nbconvert_exporter": "python",
   "pygments_lexer": "ipython3",
   "version": "3.7.6"
  }
 },
 "nbformat": 4,
 "nbformat_minor": 4
}
